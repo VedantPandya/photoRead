{
  "nbformat": 4,
  "nbformat_minor": 0,
  "metadata": {
    "colab": {
      "name": "OCR",
      "provenance": [],
      "collapsed_sections": []
    },
    "kernelspec": {
      "name": "python3",
      "display_name": "Python 3"
    }
  },
  "cells": [
    {
      "cell_type": "markdown",
      "metadata": {
        "id": "QbY5WxEMiXGG"
      },
      "source": [
        "# **Importing Modules**"
      ]
    },
    {
      "cell_type": "code",
      "metadata": {
        "id": "S_5piL6ujPqh",
        "outputId": "3d538646-f90b-4289-9b08-6d8326144657",
        "colab": {
          "base_uri": "https://localhost:8080/",
          "height": 71
        }
      },
      "source": [
        "import numpy as np\n",
        "from pydrive.auth import GoogleAuth\n",
        "from pydrive.drive import GoogleDrive\n",
        "from google.colab import auth\n",
        "from oauth2client.client import GoogleCredentials\n",
        "import matplotlib.pyplot as plt\n",
        "import matplotlib.image as mpimg\n",
        "import PIL\n",
        "import os\n",
        "from sklearn.metrics import confusion_matrix\n",
        "import seaborn as sn; sn.set(font_scale=1.4)\n",
        "from sklearn.utils import shuffle           \n",
        "import cv2                                 \n",
        "import tensorflow as tf                \n",
        "from tqdm import tqdm\n",
        "from shutil import copyfile\n",
        "from tensorflow.keras.preprocessing.image import ImageDataGenerator\n",
        "from keras.models import Sequential\n",
        "from keras.layers import Conv2D, MaxPooling2D,GlobalMaxPooling2D\n",
        "from keras.layers import Activation, Dropout, Flatten, Dense\n",
        "from tensorflow.keras import layers\n",
        "import keras"
      ],
      "execution_count": null,
      "outputs": [
        {
          "output_type": "stream",
          "text": [
            "/usr/local/lib/python3.6/dist-packages/statsmodels/tools/_testing.py:19: FutureWarning: pandas.util.testing is deprecated. Use the functions in the public API at pandas.testing instead.\n",
            "  import pandas.util.testing as tm\n"
          ],
          "name": "stderr"
        }
      ]
    },
    {
      "cell_type": "markdown",
      "metadata": {
        "id": "-Yo6setIidzY"
      },
      "source": [
        "# **Google Authorization**"
      ]
    },
    {
      "cell_type": "code",
      "metadata": {
        "id": "0F-FOKVukoUn"
      },
      "source": [
        "#Google Authorization\n",
        "auth.authenticate_user()\n",
        "gauth = GoogleAuth()\n",
        "gauth.credentials = GoogleCredentials.get_application_default()\n",
        "drive = GoogleDrive(gauth)"
      ],
      "execution_count": null,
      "outputs": []
    },
    {
      "cell_type": "markdown",
      "metadata": {
        "id": "xH3eA7gLijWL"
      },
      "source": [
        "# **Dataset Loading**"
      ]
    },
    {
      "cell_type": "code",
      "metadata": {
        "id": "QWeeYiCSkwjP"
      },
      "source": [
        "#Access Google Drive\n",
        "data = drive.CreateFile({'id':\"1HWRVOShxAHq5DdSB-XVJZbj91_GO5_fz\"})\n",
        "data.GetContentFile(\"char74k.zip\")"
      ],
      "execution_count": null,
      "outputs": []
    },
    {
      "cell_type": "code",
      "metadata": {
        "id": "fy2bK0stHsMY"
      },
      "source": [
        "!unzip \"char74k.zip\""
      ],
      "execution_count": null,
      "outputs": []
    },
    {
      "cell_type": "markdown",
      "metadata": {
        "id": "oeDHRzmGin-X"
      },
      "source": [
        "# **Splitting Dataset**"
      ]
    },
    {
      "cell_type": "code",
      "metadata": {
        "id": "w-G-GMClKrM9"
      },
      "source": [
        "def getFiles(path):\n",
        "  return [name for name in os.listdir(path) if os.path.isfile(os.path.join(path, name))]"
      ],
      "execution_count": null,
      "outputs": []
    },
    {
      "cell_type": "code",
      "metadata": {
        "id": "3BZSBJamLLHX",
        "outputId": "31680523-cb02-4e30-81ab-d493d33dddb5",
        "colab": {
          "base_uri": "https://localhost:8080/",
          "height": 34
        }
      },
      "source": [
        "#Create Train-Validation-Test Folders\n",
        "dataPath = \"../content/data\"\n",
        "os.mkdir(dataPath)\n",
        "trainPath = \"train\"\n",
        "valPath = \"validation\"\n",
        "testPath = \"test\"\n",
        "os.mkdir(os.path.join(dataPath, trainPath))\n",
        "os.mkdir(os.path.join(dataPath, valPath))\n",
        "os.mkdir(os.path.join(dataPath, testPath))\n",
        "\n",
        "classPath = \"../content/English/Img/GoodImg/Bmp/\"\n",
        "classes = [x[0].split('/')[-1] for x in os.walk(classPath) if x[0]!= classPath]\n",
        "classes = sorted(classes)\n",
        "print(len(classes))\n",
        "for i in range(0,len(classes)):\n",
        "  os.mkdir(os.path.join(dataPath, trainPath, classes[i] ))\n",
        "  os.mkdir(os.path.join(dataPath, valPath, classes[i] ))\n",
        "  os.mkdir(os.path.join(dataPath, testPath, classes[i] ))\n"
      ],
      "execution_count": null,
      "outputs": [
        {
          "output_type": "stream",
          "text": [
            "62\n"
          ],
          "name": "stdout"
        }
      ]
    },
    {
      "cell_type": "code",
      "metadata": {
        "id": "-zF3R-rOSYMD"
      },
      "source": [
        "#Split the Dataset in Train, Validation and Test Parts\n",
        "trainSplit = 0.9\n",
        "valSplit = 0.05\n",
        "testSplit = 0.05\n",
        "\n",
        "imgFolders = [\"../content/English/Img/GoodImg/Bmp/\", \"../content/English/Fnt/\", \"../content/English/Hnd/Img/\"]\n",
        "for folder in imgFolders:\n",
        "  for className in classes:\n",
        "    images = getFiles(os.path.join(folder, className))\n",
        "    count = len(images)\n",
        "    trainImages = images[:int(count*trainSplit)]\n",
        "    valImages = images[int(count*trainSplit): int(count*(trainSplit + valSplit))]\n",
        "    testImages = images[int(count*(trainSplit + valSplit)):]\n",
        "    i = len(getFiles(os.path.join(dataPath, trainPath, className))) + 1\n",
        "    for image in trainImages:\n",
        "      copyfile(os.path.join(folder, className, image), os.path.join(dataPath,trainPath, className, image))\n",
        "      os.rename(os.path.join(dataPath, trainPath, className, image), os.path.join(dataPath, trainPath, className, className+\"_\"+str(i)+\".png\"))\n",
        "      i = i+1\n",
        "    i = len(getFiles(os.path.join(dataPath, valPath, className))) + 1\n",
        "    for image in valImages:\n",
        "      copyfile(os.path.join(folder, className, image), os.path.join(dataPath,valPath, className, image))\n",
        "      os.rename(os.path.join(dataPath, valPath, className, image), os.path.join(dataPath, valPath, className, className+\"_\"+str(i)+\".png\"))\n",
        "      i = i+1\n",
        "    i = len(getFiles(os.path.join(dataPath, testPath, className))) + 1\n",
        "    for image in testImages:\n",
        "      copyfile(os.path.join(folder, className, image), os.path.join(dataPath,testPath, className, image))\n",
        "      os.rename(os.path.join(dataPath, testPath, className, image), os.path.join(dataPath, testPath, className, className+\"_\"+str(i)+\".png\"))\n",
        "      i = i+1"
      ],
      "execution_count": null,
      "outputs": []
    },
    {
      "cell_type": "code",
      "metadata": {
        "id": "fZrVL3_tjRs5",
        "outputId": "fb4fec5b-0a2e-4a87-a0c5-cbbf28d1b1aa",
        "colab": {
          "base_uri": "https://localhost:8080/",
          "height": 34
        }
      },
      "source": [
        "imgCount = 0\n",
        "for folder in imgFolders:\n",
        "  for className in classes:\n",
        "    imgCount = imgCount + len(getFiles(os.path.join(folder, className)))\n",
        "print(\"Total images in dataset:\",imgCount)"
      ],
      "execution_count": null,
      "outputs": [
        {
          "output_type": "stream",
          "text": [
            "Total images in dataset: 74107\n"
          ],
          "name": "stdout"
        }
      ]
    },
    {
      "cell_type": "code",
      "metadata": {
        "id": "n46cfcnbeZpR",
        "outputId": "54282570-4bc3-492f-a9fd-c4d176082187",
        "colab": {
          "base_uri": "https://localhost:8080/",
          "height": 34
        }
      },
      "source": [
        "trainCount = 0\n",
        "for className in classes:\n",
        "  trainCount = trainCount + len(getFiles(os.path.join(dataPath, trainPath, className)))\n",
        "print(\"Training Images: \",trainCount)"
      ],
      "execution_count": null,
      "outputs": [
        {
          "output_type": "stream",
          "text": [
            "Training Images:  66611\n"
          ],
          "name": "stdout"
        }
      ]
    },
    {
      "cell_type": "code",
      "metadata": {
        "id": "h1tpsXuwe2wR",
        "outputId": "ed9f699c-c28a-4290-e32e-567862bdb3a5",
        "colab": {
          "base_uri": "https://localhost:8080/",
          "height": 34
        }
      },
      "source": [
        "valCount = 0\n",
        "for className in classes:\n",
        "  valCount = valCount + len(getFiles(os.path.join(dataPath, valPath, className)))\n",
        "print(\"Validation Images: \",valCount)"
      ],
      "execution_count": null,
      "outputs": [
        {
          "output_type": "stream",
          "text": [
            "Validation Images:  3734\n"
          ],
          "name": "stdout"
        }
      ]
    },
    {
      "cell_type": "code",
      "metadata": {
        "id": "GuOrAPS5e3VH",
        "outputId": "63109a38-83cc-4a5c-e661-b37e29c83d56",
        "colab": {
          "base_uri": "https://localhost:8080/",
          "height": 34
        }
      },
      "source": [
        "testCount = 0\n",
        "for className in classes:\n",
        "  testCount = testCount + len(getFiles(os.path.join(dataPath, testPath, className)))\n",
        "print(\"Test Images: \", testCount)"
      ],
      "execution_count": null,
      "outputs": [
        {
          "output_type": "stream",
          "text": [
            "Test Images:  3762\n"
          ],
          "name": "stdout"
        }
      ]
    },
    {
      "cell_type": "code",
      "metadata": {
        "id": "fx1ueb8zj5ci"
      },
      "source": [
        "!zip -r \"../content/train.zip\" \"../content/data/train\""
      ],
      "execution_count": null,
      "outputs": []
    },
    {
      "cell_type": "code",
      "metadata": {
        "id": "gYDoRVvXqwg3"
      },
      "source": [
        "!zip -r \"../content/test.zip\" \"../content/data/test\""
      ],
      "execution_count": null,
      "outputs": []
    },
    {
      "cell_type": "code",
      "metadata": {
        "id": "NKBa_EkzqxBE"
      },
      "source": [
        "!zip -r \"../content/val.zip\" \"../content/data/validation\""
      ],
      "execution_count": null,
      "outputs": []
    },
    {
      "cell_type": "markdown",
      "metadata": {
        "id": "5o5W5zRBoTWF"
      },
      "source": [
        "# **Loading Train Validation Test**"
      ]
    },
    {
      "cell_type": "code",
      "metadata": {
        "id": "YBmdmpEGoWUC"
      },
      "source": [
        "#Load Train, Validation and Test from Zip\n",
        "\n",
        "#Load train.zip from Drive\n",
        "data = drive.CreateFile({'id':\"11-axPxTxuhrbWVFCgEampK6SWmptvsOh\"})\n",
        "data.GetContentFile(\"OCR-train.zip\")\n",
        "\n",
        "#Load val.zip from Drive\n",
        "data = drive.CreateFile({'id':\"19bZILzTF1a6gIhNqa6FQhhBB1TBMDYA0\"})\n",
        "data.GetContentFile(\"OCR-val.zip\")\n",
        "\n",
        "#Load test.zip from Drive\n",
        "data = drive.CreateFile({'id':\"1GQ2lWfx1YpQLuynJC0ABTUoL6UikGHwo\"})\n",
        "data.GetContentFile(\"OCR-test.zip\")"
      ],
      "execution_count": null,
      "outputs": []
    },
    {
      "cell_type": "code",
      "metadata": {
        "id": "7Fv6p-3_oqyM"
      },
      "source": [
        "!unzip \"OCR-train.zip\"\n",
        "!unzip \"OCR-val.zip\"\n",
        "!unzip \"OCR-test.zip\""
      ],
      "execution_count": null,
      "outputs": []
    },
    {
      "cell_type": "code",
      "metadata": {
        "id": "lcq1aPOltEvQ",
        "outputId": "c91ed00e-9294-493a-8588-e2f75e272909",
        "colab": {
          "base_uri": "https://localhost:8080/"
        }
      },
      "source": [
        "dataPath = \"content/data\"\n",
        "trainPath = \"train\"\n",
        "valPath = \"validation\"\n",
        "testPath = \"test\"\n",
        "classPath = os.path.join(dataPath, trainPath)\n",
        "classes = [x[0].split('/')[-1] for x in os.walk(classPath) if x[0]!= classPath]\n",
        "classes = sorted(classes)\n",
        "print(len(classes))\n",
        "print(classes)"
      ],
      "execution_count": null,
      "outputs": [
        {
          "output_type": "stream",
          "text": [
            "62\n",
            "['Sample001', 'Sample002', 'Sample003', 'Sample004', 'Sample005', 'Sample006', 'Sample007', 'Sample008', 'Sample009', 'Sample010', 'Sample011', 'Sample012', 'Sample013', 'Sample014', 'Sample015', 'Sample016', 'Sample017', 'Sample018', 'Sample019', 'Sample020', 'Sample021', 'Sample022', 'Sample023', 'Sample024', 'Sample025', 'Sample026', 'Sample027', 'Sample028', 'Sample029', 'Sample030', 'Sample031', 'Sample032', 'Sample033', 'Sample034', 'Sample035', 'Sample036', 'Sample037', 'Sample038', 'Sample039', 'Sample040', 'Sample041', 'Sample042', 'Sample043', 'Sample044', 'Sample045', 'Sample046', 'Sample047', 'Sample048', 'Sample049', 'Sample050', 'Sample051', 'Sample052', 'Sample053', 'Sample054', 'Sample055', 'Sample056', 'Sample057', 'Sample058', 'Sample059', 'Sample060', 'Sample061', 'Sample062']\n"
          ],
          "name": "stdout"
        }
      ]
    },
    {
      "cell_type": "code",
      "metadata": {
        "id": "mCaxTCmttkyj"
      },
      "source": [
        "def getFiles(path):\n",
        "  return [name for name in os.listdir(path) if os.path.isfile(os.path.join(path, name))]"
      ],
      "execution_count": null,
      "outputs": []
    },
    {
      "cell_type": "code",
      "metadata": {
        "id": "Szc6AHQNtbcw",
        "outputId": "1fa8aa6d-a010-44ce-c8ac-9c49e016064e",
        "colab": {
          "base_uri": "https://localhost:8080/"
        }
      },
      "source": [
        "trainCount = 0\n",
        "for className in classes:\n",
        "  trainCount = trainCount + len(getFiles(os.path.join(dataPath, trainPath, className)))\n",
        "print(\"Training Images: \",trainCount)"
      ],
      "execution_count": null,
      "outputs": [
        {
          "output_type": "stream",
          "text": [
            "Training Images:  66611\n"
          ],
          "name": "stdout"
        }
      ]
    },
    {
      "cell_type": "code",
      "metadata": {
        "id": "YToBwQbUtrRx",
        "outputId": "ffd832da-e1ac-4ab0-d4cb-5f644efd5da1",
        "colab": {
          "base_uri": "https://localhost:8080/"
        }
      },
      "source": [
        "valCount = 0\n",
        "for className in classes:\n",
        "  valCount = valCount + len(getFiles(os.path.join(dataPath, valPath, className)))\n",
        "print(\"Validation Images: \",valCount)"
      ],
      "execution_count": null,
      "outputs": [
        {
          "output_type": "stream",
          "text": [
            "Validation Images:  3734\n"
          ],
          "name": "stdout"
        }
      ]
    },
    {
      "cell_type": "code",
      "metadata": {
        "id": "4n4EmNAGtuND",
        "outputId": "4fe2131e-d481-44dd-ebb2-b353020022e5",
        "colab": {
          "base_uri": "https://localhost:8080/"
        }
      },
      "source": [
        "testCount = 0\n",
        "for className in classes:\n",
        "  testCount = testCount + len(getFiles(os.path.join(dataPath, testPath, className)))\n",
        "print(\"Test Images: \", testCount)"
      ],
      "execution_count": null,
      "outputs": [
        {
          "output_type": "stream",
          "text": [
            "Test Images:  3762\n"
          ],
          "name": "stdout"
        }
      ]
    },
    {
      "cell_type": "code",
      "metadata": {
        "id": "TfsIcHg3RIfw",
        "outputId": "9be6e4bb-c842-46d5-9d10-190e096648a7",
        "colab": {
          "base_uri": "https://localhost:8080/"
        }
      },
      "source": [
        "#Frequency of each Class in Training Split\n",
        "classCount = {\"train\": [0 for i in range(62)], \"val\": [0 for i in range(62)], \"test\": [0 for i in range(62)] }\n",
        "i = 0\n",
        "for className in classes:\n",
        "  classCount[\"train\"][i] = len(getFiles(os.path.join(dataPath, trainPath, className)))\n",
        "  i = i+1\n",
        "print(\"Train Count: \", classCount[\"train\"])\n",
        "print(sum(classCount[\"train\"]))"
      ],
      "execution_count": null,
      "outputs": [
        {
          "output_type": "stream",
          "text": [
            "Train Count:  [1057, 1034, 1026, 1008, 1005, 1020, 1020, 1006, 991, 993, 1465, 1066, 1156, 1134, 1364, 1034, 1091, 1136, 1234, 1032, 1045, 1156, 1097, 1289, 1306, 1106, 994, 1313, 1270, 1243, 1045, 1038, 1023, 1035, 1023, 1012, 1105, 997, 1019, 1004, 1167, 996, 995, 1009, 1077, 992, 993, 1015, 1001, 1084, 1096, 996, 1011, 1076, 1074, 1062, 999, 992, 995, 994, 1001, 994]\n",
            "66611\n"
          ],
          "name": "stdout"
        }
      ]
    },
    {
      "cell_type": "code",
      "metadata": {
        "id": "wz9i_tmQWm32",
        "outputId": "68c5d36c-0dac-4d18-848b-04de1b26e7a0",
        "colab": {
          "base_uri": "https://localhost:8080/"
        }
      },
      "source": [
        "#Frequency of each Class in Validation Split\n",
        "i = 0\n",
        "for className in classes:\n",
        "  classCount[\"val\"][i] = len(getFiles(os.path.join(dataPath, valPath, className)))\n",
        "  i = i+1\n",
        "print(\"Validation Count: \", classCount[\"val\"])\n",
        "print(sum(classCount[\"val\"]))"
      ],
      "execution_count": null,
      "outputs": [
        {
          "output_type": "stream",
          "text": [
            "Validation Count:  [59, 58, 57, 56, 56, 57, 57, 56, 56, 56, 82, 60, 65, 64, 76, 58, 61, 64, 69, 58, 59, 65, 61, 72, 73, 62, 56, 73, 71, 70, 59, 58, 57, 58, 57, 57, 62, 56, 57, 56, 65, 56, 56, 57, 60, 56, 56, 57, 56, 61, 61, 56, 57, 60, 60, 60, 56, 56, 56, 56, 56, 56]\n",
            "3734\n"
          ],
          "name": "stdout"
        }
      ]
    },
    {
      "cell_type": "code",
      "metadata": {
        "id": "3i7ilV7bW7GQ",
        "outputId": "501c4b16-c205-4672-a9c0-f680c15dbd80",
        "colab": {
          "base_uri": "https://localhost:8080/"
        }
      },
      "source": [
        "#Frequency of each Class in Test Split\n",
        "i = 0\n",
        "for className in classes:\n",
        "  classCount[\"test\"][i] = len(getFiles(os.path.join(dataPath, testPath, className)))\n",
        "  i = i+1\n",
        "print(\"Test Count: \", classCount[\"test\"])\n",
        "print(sum(classCount[\"test\"]))"
      ],
      "execution_count": null,
      "outputs": [
        {
          "output_type": "stream",
          "text": [
            "Test Count:  [60, 58, 58, 57, 57, 58, 58, 57, 56, 56, 82, 60, 65, 64, 77, 58, 62, 64, 70, 58, 59, 65, 62, 73, 74, 62, 56, 74, 72, 70, 59, 59, 58, 58, 58, 57, 62, 56, 58, 57, 66, 56, 56, 57, 61, 56, 56, 57, 57, 61, 62, 56, 57, 61, 61, 60, 57, 56, 56, 56, 57, 56]\n",
            "3762\n"
          ],
          "name": "stdout"
        }
      ]
    },
    {
      "cell_type": "code",
      "metadata": {
        "id": "CsAy6lBvqciU"
      },
      "source": [
        ""
      ],
      "execution_count": null,
      "outputs": []
    },
    {
      "cell_type": "markdown",
      "metadata": {
        "id": "kl5195ICqFjZ"
      },
      "source": [
        "# **Model Building**"
      ]
    },
    {
      "cell_type": "code",
      "metadata": {
        "id": "HlyW9RfoqRWx"
      },
      "source": [
        "#Initializing ImageDataGenerators\n",
        "trainFlow = ImageDataGenerator(\n",
        "    rescale=1./255,\n",
        "    shear_range=0.2,\n",
        "    zoom_range=0.2)\n",
        "\n",
        "valFlow = ImageDataGenerator(\n",
        "    rescale=1./255,\n",
        "    shear_range=0.2,\n",
        "    zoom_range=0.2)\n",
        "\n",
        "testFlow = ImageDataGenerator(\n",
        "    rescale=1./255)\n",
        "\n"
      ],
      "execution_count": null,
      "outputs": []
    },
    {
      "cell_type": "code",
      "metadata": {
        "id": "ZkTmjCsOuabj",
        "outputId": "96fb58c5-9379-4534-b2d4-16c9f61a84c0",
        "colab": {
          "base_uri": "https://localhost:8080/",
          "height": 68
        }
      },
      "source": [
        "#Initializing Generators\n",
        "\n",
        "trainGenerator = trainFlow.flow_from_directory(\n",
        "    'content/data/train',\n",
        "    target_size=(128, 128),\n",
        "    batch_size=32,\n",
        "    class_mode='categorical')\n",
        "\n",
        "valGenerator = valFlow.flow_from_directory(\n",
        "    'content/data/validation',\n",
        "    target_size=(128, 128),\n",
        "    batch_size=32,\n",
        "    class_mode='categorical')\n",
        "\n",
        "\n",
        "testGenerator = testFlow.flow_from_directory(\n",
        "    'content/data/test',\n",
        "    target_size=(128, 128),\n",
        "    batch_size=32,\n",
        "    class_mode='categorical')"
      ],
      "execution_count": null,
      "outputs": [
        {
          "output_type": "stream",
          "text": [
            "Found 66611 images belonging to 62 classes.\n",
            "Found 3734 images belonging to 62 classes.\n",
            "Found 3762 images belonging to 62 classes.\n"
          ],
          "name": "stdout"
        }
      ]
    },
    {
      "cell_type": "code",
      "metadata": {
        "id": "uU0nUX4HvPjX"
      },
      "source": [
        "ocrModel = Sequential()\n",
        "ocrModel.add(Conv2D(16, (5, 5), input_shape=(None, None ,3)))\n",
        "ocrModel.add(Activation('relu'))\n",
        "ocrModel.add(MaxPooling2D(pool_size=(2, 2)))\n",
        "\n",
        "ocrModel.add(Conv2D(32, (5, 5)))\n",
        "ocrModel.add(Activation('relu'))\n",
        "ocrModel.add(MaxPooling2D(pool_size=(2, 2)))\n",
        "\n",
        "\n",
        "ocrModel.add(Conv2D(64, (5, 5)))\n",
        "ocrModel.add(Activation('relu'))\n",
        "ocrModel.add(MaxPooling2D(pool_size=(2, 2)))\n",
        "\n",
        "\n",
        "ocrModel.add(Conv2D(128, (5, 5)))\n",
        "ocrModel.add(Activation('relu'))\n",
        "ocrModel.add(GlobalMaxPooling2D())\n",
        "\n",
        "ocrModel.add(layers.Flatten())\n",
        "ocrModel.add(layers.Dense(2048))\n",
        "ocrModel.add(layers.Dense(1024))\n",
        "ocrModel.add(layers.Dense(512))\n",
        "ocrModel.add(layers.Dense(256))\n",
        "ocrModel.add(Dense(62, activation='softmax'))\n"
      ],
      "execution_count": null,
      "outputs": []
    },
    {
      "cell_type": "code",
      "metadata": {
        "id": "W6gW0E9Kx2-y"
      },
      "source": [
        "ocrModel.compile(loss='categorical_crossentropy',\n",
        "              optimizer=keras.optimizers.Adam(0.00005),\n",
        "              metrics=['accuracy'])"
      ],
      "execution_count": null,
      "outputs": []
    },
    {
      "cell_type": "code",
      "metadata": {
        "id": "JBDNasyiyIVI",
        "outputId": "72fd085b-f2cb-42f9-9cdc-7cd7c1bf4e91",
        "colab": {
          "base_uri": "https://localhost:8080/",
          "height": 119
        }
      },
      "source": [
        "history = ocrModel.fit(\n",
        "    trainGenerator,\n",
        "    steps_per_epoch=int(trainCount/32),\n",
        "    epochs=3,\n",
        "    validation_data=valGenerator,\n",
        "    validation_steps=int(valCount/32))"
      ],
      "execution_count": null,
      "outputs": [
        {
          "output_type": "stream",
          "text": [
            "Epoch 1/3\n",
            "2081/2081 [==============================] - 2022s 972ms/step - loss: 0.2980 - accuracy: 0.8834 - val_loss: 0.3745 - val_accuracy: 0.8618\n",
            "Epoch 2/3\n",
            "2081/2081 [==============================] - 2022s 972ms/step - loss: 0.2913 - accuracy: 0.8851 - val_loss: 0.3725 - val_accuracy: 0.8648\n",
            "Epoch 3/3\n",
            "2081/2081 [==============================] - 2015s 968ms/step - loss: 0.2857 - accuracy: 0.8873 - val_loss: 0.3606 - val_accuracy: 0.8696\n"
          ],
          "name": "stdout"
        }
      ]
    },
    {
      "cell_type": "code",
      "metadata": {
        "id": "uiPa9B7sLXKF",
        "outputId": "52970222-09bd-4eb4-eb6e-0975c041be6f",
        "colab": {
          "base_uri": "https://localhost:8080/",
          "height": 34
        }
      },
      "source": [
        "testHistory = ocrModel.evaluate(testGenerator, steps = int( testCount// 32), \n",
        "                   batch_size = 32)"
      ],
      "execution_count": null,
      "outputs": [
        {
          "output_type": "stream",
          "text": [
            "117/117 [==============================] - 29s 246ms/step - loss: 0.3306 - accuracy: 0.8838\n"
          ],
          "name": "stdout"
        }
      ]
    },
    {
      "cell_type": "code",
      "metadata": {
        "id": "bPZBxnTdqB73",
        "outputId": "aa032968-c86e-41ff-bd62-03c5280f4a30",
        "colab": {
          "base_uri": "https://localhost:8080/",
          "height": 34
        }
      },
      "source": [
        "testGenerator1 = testFlow.flow_from_directory(\n",
        "    'English/Img/BadImag/Bmp/',\n",
        "    target_size=(128, 128),\n",
        "    batch_size=32,\n",
        "    class_mode='categorical')"
      ],
      "execution_count": null,
      "outputs": [
        {
          "output_type": "stream",
          "text": [
            "Found 4798 images belonging to 62 classes.\n"
          ],
          "name": "stdout"
        }
      ]
    },
    {
      "cell_type": "code",
      "metadata": {
        "id": "ViD9gGimp3Qr",
        "outputId": "093d41e6-cfd5-4533-8d70-321301e8554a",
        "colab": {
          "base_uri": "https://localhost:8080/",
          "height": 34
        }
      },
      "source": [
        "testHistory1 = ocrModel.evaluate(testGenerator1, steps = int( testCount// 32), \n",
        "                   batch_size = 32)"
      ],
      "execution_count": null,
      "outputs": [
        {
          "output_type": "stream",
          "text": [
            "117/117 [==============================] - 28s 239ms/step - loss: 1.9118 - accuracy: 0.5377\n"
          ],
          "name": "stdout"
        }
      ]
    },
    {
      "cell_type": "code",
      "metadata": {
        "id": "s6F-EKL1UXNc"
      },
      "source": [
        "testAccuracy = [0.8208, 0.832, 0.8649, 0.8726, 8860]\n",
        "testLoss = [0.470, 0.430, 0.3852, 0.3619, 0.3200 ]"
      ],
      "execution_count": null,
      "outputs": []
    },
    {
      "cell_type": "code",
      "metadata": {
        "id": "7kwNU4boOu8T",
        "outputId": "671164be-a68f-438f-f2b0-98ac4ea14c1f",
        "colab": {
          "base_uri": "https://localhost:8080/",
          "height": 34
        }
      },
      "source": [
        "ocrModel.save(\"ocrModel-VI\")"
      ],
      "execution_count": null,
      "outputs": [
        {
          "output_type": "stream",
          "text": [
            "INFO:tensorflow:Assets written to: ocrModel-VI/assets\n"
          ],
          "name": "stdout"
        }
      ]
    },
    {
      "cell_type": "code",
      "metadata": {
        "id": "AOv8NISgIM_T"
      },
      "source": [
        "trainAccuracy = [0.8177353143692017, 0.8262515068054199, 0.8368104100227356, 0.8420222401618958, 0.8487961888313293, 0.852941632270813, 0.8573574423789978, 0.8609020709991455, 0.8668649196624756, 0.8681265711784363, 0.8709352612495422, 0.8748854994773865, 0.8906412124633789, 0.8932396173477173, 0.8977004885673523]\n",
        "trainLoss = [0.5379915237426758, 0.49186018109321594, 0.457203209400177, 0.4350758194923401, 0.4124700129032135, 0.39551401138305664, 0.3805806338787079, 0.3629201054573059, 0.3519112467765808, 0.34516268968582153, 0.33399498462677, 0.3218408226966858, 0.27402716875076294, 0.2630642354488373, 0.2564932405948639]\n",
        "valAccuracy = [0.8211206793785095, 0.8168103694915771, 0.818965494632721, 0.8213900923728943, 0.8370150923728943, 0.8324353694915771, 0.8429418206214905, 0.8472521305084229, 0.8534482717514038, 0.8550646305084229, 0.8488685488700867, 0.8521012663841248, 0.8690732717514038, 0.8760775923728943, 0.8712284564971924]\n",
        "valLoss = [0.5263432860374451, 0.5248925089836121, 0.48206838965415955, 0.47116735577583313, 0.45383360981941223, 0.43013644218444824, 0.4246196448802948, 0.4343908429145813, 0.38943707942962646, 0.39389631152153015, 0.4089111089706421, 0.4056259095668793, 0.34501421451568604, 0.32802510261535645, 0.34889858961105347]"
      ],
      "execution_count": null,
      "outputs": []
    },
    {
      "cell_type": "code",
      "metadata": {
        "id": "NnZ1DYvCUjyu",
        "outputId": "5fa0f6ff-48ed-4bcb-e1d9-1aba9f67c49f",
        "colab": {
          "base_uri": "https://localhost:8080/",
          "height": 34
        }
      },
      "source": [
        "print(len(valLoss))"
      ],
      "execution_count": null,
      "outputs": [
        {
          "output_type": "stream",
          "text": [
            "9\n"
          ],
          "name": "stdout"
        }
      ]
    },
    {
      "cell_type": "code",
      "metadata": {
        "id": "XCtozhGIHzO_",
        "outputId": "62f3c963-0e4f-4383-a9fd-052191796056",
        "colab": {
          "base_uri": "https://localhost:8080/",
          "height": 34
        }
      },
      "source": [
        "print(history.history[\"accuracy\"])"
      ],
      "execution_count": null,
      "outputs": [
        {
          "output_type": "stream",
          "text": [
            "[0.8906412124633789, 0.8932396173477173, 0.8977004885673523]\n"
          ],
          "name": "stdout"
        }
      ]
    },
    {
      "cell_type": "code",
      "metadata": {
        "id": "eFzMgEQ2H36s",
        "outputId": "a13c9f68-fd69-43df-af2e-87d4f3693cf3",
        "colab": {
          "base_uri": "https://localhost:8080/",
          "height": 34
        }
      },
      "source": [
        "print(history.history[\"loss\"])"
      ],
      "execution_count": null,
      "outputs": [
        {
          "output_type": "stream",
          "text": [
            "[0.27402716875076294, 0.2630642354488373, 0.2564932405948639]\n"
          ],
          "name": "stdout"
        }
      ]
    },
    {
      "cell_type": "code",
      "metadata": {
        "id": "jD9Fq9jfH_fV",
        "outputId": "da43aae7-fdc5-4777-d622-53730845c3f6",
        "colab": {
          "base_uri": "https://localhost:8080/",
          "height": 34
        }
      },
      "source": [
        "print(history.history[\"val_accuracy\"])"
      ],
      "execution_count": null,
      "outputs": [
        {
          "output_type": "stream",
          "text": [
            "[0.8690732717514038, 0.8760775923728943, 0.8712284564971924]\n"
          ],
          "name": "stdout"
        }
      ]
    },
    {
      "cell_type": "code",
      "metadata": {
        "id": "uFabO-bsID2V",
        "outputId": "7e37d496-143d-4bad-f6d9-d073b39d2521",
        "colab": {
          "base_uri": "https://localhost:8080/",
          "height": 34
        }
      },
      "source": [
        "print(history.history[\"val_loss\"])"
      ],
      "execution_count": null,
      "outputs": [
        {
          "output_type": "stream",
          "text": [
            "[0.34501421451568604, 0.32802510261535645, 0.34889858961105347]\n"
          ],
          "name": "stdout"
        }
      ]
    },
    {
      "cell_type": "code",
      "metadata": {
        "id": "aDctGTqLIc-N",
        "outputId": "df01f982-1e98-44cb-f559-69aaf73021ef",
        "colab": {
          "base_uri": "https://localhost:8080/",
          "height": 315
        }
      },
      "source": [
        "#Plot Accuracy\n",
        "plt.plot(trainAccuracy)\n",
        "plt.plot(valAccuracy)\n",
        "plt.title('model accuracy')\n",
        "plt.ylabel('accuracy')\n",
        "plt.xlabel('epoch')\n",
        "plt.legend(['train', 'val'], loc='upper left')\n",
        "plt.show()"
      ],
      "execution_count": null,
      "outputs": [
        {
          "output_type": "display_data",
          "data": {
            "image/png": "[encoded data removed]",
            "text/plain": [
              "<Figure size 432x288 with 1 Axes>"
            ]
          },
          "metadata": {
            "tags": []
          }
        }
      ]
    },
    {
      "cell_type": "code",
      "metadata": {
        "id": "pf2GVDqHI3Af",
        "outputId": "29c0027e-64ee-432e-8c7a-210937da31dc",
        "colab": {
          "base_uri": "https://localhost:8080/",
          "height": 315
        }
      },
      "source": [
        "#Plot Loss\n",
        "plt.plot(trainLoss)\n",
        "plt.plot(valLoss)\n",
        "plt.title('model Loss')\n",
        "plt.ylabel('Loss')\n",
        "plt.xlabel('epoch')\n",
        "plt.legend(['train', 'val'], loc='upper left')\n",
        "plt.show()"
      ],
      "execution_count": null,
      "outputs": [
        {
          "output_type": "display_data",
          "data": {
            "image/png": "[encoded data removed]",
            "text/plain": [
              "<Figure size 432x288 with 1 Axes>"
            ]
          },
          "metadata": {
            "tags": []
          }
        }
      ]
    },
    {
      "cell_type": "code",
      "metadata": {
        "id": "7RIutkybrYvP"
      },
      "source": [
        "#Get Pre Trained Model (Epochs 4 - 6)\n",
        "ocrModelFromDrive = drive.CreateFile({'id':\"1kC0xp2o2OPCgP7k2XMNFmSiBOf_2sBhY\"})\n",
        "ocrModelFromDrive.GetContentFile(\"ocrModel-V.zip\")\n",
        "!unzip \"ocrModel-V.zip\"\n",
        "ocrModel = keras.models.load_model('ocrModel-V')"
      ],
      "execution_count": null,
      "outputs": []
    }
  ]
}